{
 "cells": [
  {
   "cell_type": "markdown",
   "metadata": {},
   "source": [
    "## Install \n",
    "\n",
    "Stata has a great community of users who create tools to improve and increase the functionality of Stata. Throughout the tutorial, we will use several user written packages. Here we will show you how to find and install these packages. This process requires internet access.\n",
    "\n",
    "## User written files\n",
    "Most user written commands are hosted at the Boston College Statistical Software Components (SSC) archive. However, there are packages that hosted on personal servers and on github, where the steps of installing them are slightly different. \n",
    "\n",
    "## About SSC\n",
    "Within Stata, there is a command called ssc. It allows you to search for packages, update exisiting packages and install them."
   ]
  },
  {
   "cell_type": "markdown",
   "metadata": {},
   "source": [
    "I always recommend using the `help` command to find information before posting the questions online. The examples section of the help file typically answers most of my questions. "
   ]
  },
  {
   "cell_type": "markdown",
   "metadata": {},
   "source": [
    "### A better merge command\n",
    "If you have used Stata's `merge` command, you might have had to open the dataset(using dataset) that you want to merge to create/rename ID variables to be the same as master dataset(the data set currently in Stata). This requirement is no longer necessary with the user written package `mmerge`, as this package allows you to specify the using variable that you want to use to match on. Hence, you will no longer have to open and save over a using dataset to create identical variables in order to merge the two datasets. \n",
    "\n",
    "`mmerge` was created by Jeroen Weesie (j.weesie@fss.uu.nl). <br>\n",
    "Source: https://econpapers.repec.org/software/bocbocode/s420201.htm"
   ]
  },
  {
   "cell_type": "code",
   "execution_count": 4,
   "metadata": {},
   "outputs": [
    {
     "name": "stdout",
     "output_type": "stream",
     "text": [
      "checking mmerge consistency and verifying not already installed...\n",
      "all files already exist and are up to date.\n"
     ]
    }
   ],
   "source": [
    "ssc install mmerge"
   ]
  },
  {
   "cell_type": "markdown",
   "metadata": {},
   "source": [
    "### Screening command\n",
    "Sometimes if you are doing a keyword search of a long string variable, you want to be able to detect simple spelling mistakes. For example, if you are trying to search for \"bicycle\" in a string variable, you will probably also want to detect \"bicyle\" as well. `screening` will enable you to specify how many characters have to be matched in a keyword.\n",
    "\n",
    "`screening` was created by Federico Belotti and Domenico Depalo.<br>\n",
    "Source: https://ageconsearch.umn.edu/record/159034/files/sjart_dm0050.pdf"
   ]
  },
  {
   "cell_type": "code",
   "execution_count": 6,
   "metadata": {},
   "outputs": [],
   "source": [
    "findit screening"
   ]
  },
  {
   "cell_type": "code",
   "execution_count": 8,
   "metadata": {},
   "outputs": [
    {
     "name": "stdout",
     "output_type": "stream",
     "text": [
      "checking dm0050 consistency and verifying not already installed...\n",
      "installing into c:\\ado\\plus\\...\n",
      "installation complete.\n"
     ]
    }
   ],
   "source": [
    "net install dm0050"
   ]
  }
 ],
 "metadata": {
  "kernelspec": {
   "display_name": "Stata",
   "language": "stata",
   "name": "stata"
  },
  "language_info": {
   "codemirror_mode": "stata",
   "file_extension": ".do",
   "mimetype": "text/x-stata",
   "name": "stata",
   "version": "15.1"
  }
 },
 "nbformat": 4,
 "nbformat_minor": 2
}

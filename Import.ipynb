{
 "cells": [
  {
   "cell_type": "markdown",
   "metadata": {},
   "source": [
    "## Motivation\n",
    "Before we begin downloading datasets and exploring them, we want to share the motivation behind this project. Throughout our master's graduate program, we had worked on clean, well-formatted datasets that had codebooks and proper documentation. We would create a few variables and jump right into the regressions. However, when we embarked on our thesis projects, depending on our question, we had to combine multiple publicly available datasets and we had to create these analytical datasets. This project attempts to demonstrate the process of how one could go about finding, cleaning and setting up an analytical dataset using Stata."
   ]
  },
  {
   "cell_type": "markdown",
   "metadata": {},
   "source": [
    "### Public Use Files (PUFs)\n",
    "\n",
    "Here is a short list of publicly available files:\n",
    "\n",
    "- https://data.detroitmi.gov/\n",
    "- https://opendata.cityofnewyork.us/\n",
    "- https://www.data.gov/\n",
    "- https://www.google.com/publicdata/directory\n",
    "- https://data.gov.sg/\n",
    "- https://www.ebrd.com/cs/Satellite?c=Content&cid=1395236498263&d=Mobile&pagename=EBRD%2FContent%2FContentLayout\n",
    "- http://erf.org.eg/\n",
    "- https://www.cdc.gov/nchs/index.htm\n",
    "- https://capstat.nyc/\n",
    "- https://atlasdata.dartmouth.edu/"
   ]
  },
  {
   "cell_type": "markdown",
   "metadata": {},
   "source": [
    "For this exercise, we will use the NYPD's Motor Vehicle Collisions data, which can be found on https://opendata.cityofnewyork.us/."
   ]
  },
  {
   "cell_type": "markdown",
   "metadata": {},
   "source": [
    "Stata's `import` command allows for several types of data. There are other user written commands that allow you to read in other types of data. For example:\n",
    "- `insheetjson`\n",
    "- `libjson`\n",
    "- `spshape2dta`"
   ]
  },
  {
   "cell_type": "code",
   "execution_count": null,
   "metadata": {},
   "outputs": [],
   "source": [
    "import delimited \"https://data.cityofnewyork.us/api/views/h9gi-nx95/rows.csv?accessType=DOWNLOAD\", clear"
   ]
  },
  {
   "cell_type": "markdown",
   "metadata": {},
   "source": [
    "We can use Stata's global macros to view information like dates and times by invoking `$S_DATE` and `$S_TIME`."
   ]
  },
  {
   "cell_type": "code",
   "execution_count": null,
   "metadata": {},
   "outputs": [],
   "source": [
    "display \"$S_DATE $S_TIME\""
   ]
  },
  {
   "cell_type": "markdown",
   "metadata": {},
   "source": [
    "We can also include a note about the dataset that we have in memory. Adding notes is great practice and it allows us to store any kind of information about the dataset. In this example, we add a time stamp note."
   ]
  },
  {
   "cell_type": "code",
   "execution_count": null,
   "metadata": {},
   "outputs": [],
   "source": [
    "notes: \"Downloaded $S_DATE $S_TIME\"\n",
    "notes list"
   ]
  },
  {
   "cell_type": "markdown",
   "metadata": {},
   "source": [
    "Relative file paths allow us to move from one folder (current directory) to another easily. Right now, the current directory is in the dofiles folder. We use `..\\` to move up one level to the folder \"Stata Class\" and then down one level into \"input_data\" to save the dataset."
   ]
  },
  {
   "cell_type": "code",
   "execution_count": 1,
   "metadata": {},
   "outputs": [
    {
     "name": "stdout",
     "output_type": "stream",
     "text": [
      "C:\\Users\\jerem\\Documents\\Stata Class\\dofiles\n"
     ]
    }
   ],
   "source": [
    "cd"
   ]
  },
  {
   "cell_type": "code",
   "execution_count": null,
   "metadata": {},
   "outputs": [],
   "source": [
    "save \"..\\input_data\\NYPD_Motor_Vehicle_Collisions.dta\""
   ]
  }
 ],
 "metadata": {
  "kernelspec": {
   "display_name": "Stata",
   "language": "stata",
   "name": "stata"
  },
  "language_info": {
   "codemirror_mode": "stata",
   "file_extension": ".do",
   "mimetype": "text/x-stata",
   "name": "stata",
   "version": "15.1"
  }
 },
 "nbformat": 4,
 "nbformat_minor": 2
}
